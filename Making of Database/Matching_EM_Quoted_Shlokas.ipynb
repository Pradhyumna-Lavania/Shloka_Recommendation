{
 "cells": [
  {
   "cell_type": "code",
   "execution_count": null,
   "metadata": {},
   "outputs": [],
   "source": [
    "import pandas as pd\n",
    "\n",
    "df=pd.read_csv(\"FinalList.csv\")\n",
    "#print(df)\n",
    "df=df.fillna(\"N\")\n",
    "l=df.values.tolist()\n",
    "#print(l[13700:13771])"
   ]
  },
  {
   "cell_type": "code",
   "execution_count": null,
   "metadata": {},
   "outputs": [],
   "source": [
    "#Copying l values to a new list \"ll\"\n",
    "ll=[[l[x][0],l[x][1],l[x][2],l[x][3],l[x][4],l[x][5],l[x][6],str(l[x][7]),str(l[x][8]),str(l[x][9]),] for x in range(14094)]\n"
   ]
  },
  {
   "cell_type": "markdown",
   "metadata": {},
   "source": [
    "#### Row 13643 posed problem thats why was treated specially"
   ]
  },
  {
   "cell_type": "code",
   "execution_count": null,
   "metadata": {},
   "outputs": [],
   "source": [
    "ll1=[[ll[x][0],ll[x][1],ll[x][2],ll[x][3],ll[x][4],ll[x][5],ll[x][6],(ll[x][7]),((ll[x][8])),(ll[x][9])] for x in range(13643)]\n"
   ]
  },
  {
   "cell_type": "code",
   "execution_count": null,
   "metadata": {},
   "outputs": [],
   "source": [
    "ll2=[[ll[x][0],ll[x][1],ll[x][2],ll[x][3],ll[x][4],ll[x][5],ll[x][6],eval(ll[x][7]),eval((ll[x][8])),eval(ll[x][9])] for x in range(13644,14094)]\n"
   ]
  },
  {
   "cell_type": "code",
   "execution_count": null,
   "metadata": {},
   "outputs": [],
   "source": [
    "x=13643\n",
    "ll3=[[ll[x][0],ll[x][1],ll[x][2],ll[x][3],ll[x][4],ll[x][5],ll[x][6],[],eval((ll[x][8])),eval(ll[x][9])]]\n",
    "\n"
   ]
  },
  {
   "cell_type": "code",
   "execution_count": null,
   "metadata": {},
   "outputs": [],
   "source": [
    "ll4=ll1+ll3+ll2"
   ]
  },
  {
   "cell_type": "code",
   "execution_count": null,
   "metadata": {},
   "outputs": [],
   "source": [
    "#df1=pd.DataFrame(ll4)\n",
    "#csv=df1.to_csv('DeB_All.csv',index=False)\n",
    "# Print Check"
   ]
  },
  {
   "cell_type": "code",
   "execution_count": null,
   "metadata": {},
   "outputs": [],
   "source": [
    "ll=ll4"
   ]
  },
  {
   "cell_type": "code",
   "execution_count": null,
   "metadata": {},
   "outputs": [],
   "source": [
    "for x in range(13771):\n",
    "    print(x)\n",
    "    #Clearing some most recurring keywords for better results.\n",
    "    if len(ll[x][7])!=0 :\n",
    "        if '' in ll[x][7]:\n",
    "            (ll[x][7]).replace('',\"\")\n",
    "        if 'BagavAn' in ll[x][7]:\n",
    "            (ll[x][7]).replace('BagavAn',\"\")\n",
    "        if 'gItA' in ll[x][7]:\n",
    "            (ll[x][7]).replace('gItA',\"\")\n",
    "\n",
    "                \n",
    "       #matching EM tags with keywords in shloka  \n",
    "        for val in ll[x][7]:\n",
    "            for v in range(13771):\n",
    "                if val in ll[v][3]:\n",
    "                    list(ll[x][9]).append(ll[v][0])\n",
    "    p=[]\n",
    "    for y in list(ll[x][9]):\n",
    "        if y not in p:\n",
    "            p.append(y)\n",
    "    ll[x][9]=p"
   ]
  },
  {
   "cell_type": "code",
   "execution_count": null,
   "metadata": {},
   "outputs": [],
   "source": [
    "# task is used for entereing the shlokas directly quoted in the text.\n",
    "task=[[] for x in range(13771)]"
   ]
  },
  {
   "cell_type": "markdown",
   "metadata": {},
   "source": [
    "#### Filling of task was done in 4 different shunks to avoid the error due to change of book  and in the last task lists were added to previous recommendations obtained from EM keywords match."
   ]
  },
  {
   "cell_type": "code",
   "execution_count": null,
   "metadata": {},
   "outputs": [],
   "source": [
    "\n",
    "\n",
    "for x in range(656):\n",
    "    if len(ll4[x][8])!=0:\n",
    "        if len(ll4[x][8][0])!=0: \n",
    "            #for bhagvatam shloka\n",
    "            for val in ll[x][8][0]:\n",
    "                val=val.replace('Bhāgavatam','/sb').replace(' ','').replace('.','/').replace('(','/').replace(')','/').split('/')\n",
    "                val='/'+val[1]+'/'+val[2]+'/'+val[3]+'/'+val[4]+'/'\n",
    "                task[x].append(val)\n",
    "        if len(ll4[x][8][1])!=0:            \n",
    "            for val in ll[x][8][1]:\n",
    "                #for geeta shloka\n",
    "                val=val.replace('Bhagavad-gītā','/bg').replace(' ','').replace('.','/').replace('(','/').replace(')','/').split('/')\n",
    "                val='/'+val[1]+'/'+val[2]+'/'+val[3]+'/'\n",
    "                task[x].append(val) \n",
    "        if len(ll4[x][8][2])!=0:            \n",
    "            for val in ll[x][8][2]:\n",
    "                #for brhma samhita shloka\n",
    "                val=val.replace('Gītā','/bg').replace(' ','').replace('.','/').replace('(','/').replace(')','/').split('/')\n",
    "                val='/'+val[1]+'/'+val[2]+'/'+val[3]+'/'\n",
    "                task[x].append(val)"
   ]
  },
  {
   "cell_type": "code",
   "execution_count": null,
   "metadata": {},
   "outputs": [],
   "source": [
    "for x in range(656,13660):\n",
    "    if len(ll4[x][8])!=0:\n",
    "        if len(ll4[x][8][0])!=0:\n",
    "            for val in ll4[x][8][0]:\n",
    "                val=val.replace('Bhagavad-gītā','/bg').replace(' ','').replace('.','/').replace('(','/').replace(')','/').split('/')\n",
    "                val='/'+val[1]+'/'+val[2]+'/'+val[3]+'/'\n",
    "                task[x].append(val)\n",
    "        if len(ll4[x][8][1])!=0:\n",
    "            for val in ll4[x][8][1]:\n",
    "                val=val.replace('Bg.','bg').replace(' ','/').replace('.','/').replace('(','/').replace(')','/').split('/')\n",
    "                val='/'+val[1]+'/'+val[2]+'/'+val[3]\n",
    "                task[x].append(val)      \n",
    "        if len(ll4[x][8][2])!=0:\n",
    "            for val in ll4[x][8][2]:\n",
    "                val=val.replace('Śrīmad-Bhāgavatam','/sb').replace(' ','').replace('.','/').replace('(','/').replace(')','/')\n",
    "                #val='/'+val[1]+'/'+val[2]+'/'+val[3]+'/'+val[4]+'/'\n",
    "                task[x].append(val)\n",
    "        if len(ll4[x][8][3])!=0:\n",
    "            for val in ll4[x][8][3]:\n",
    "                val=val.replace('Bhāg.','sb').replace(' ','/').replace('.','/').replace('(','/').replace(')','/')\n",
    "                #val='/'+val[1]+'/'+val[2]+'/'+val[3]+'/'+val[4]+'/'\n",
    "                task[x].append(val)"
   ]
  },
  {
   "cell_type": "code",
   "execution_count": null,
   "metadata": {},
   "outputs": [],
   "source": [
    "for x in range(13722,13733):\n",
    "    if len(ll4[x][8])!=0:\n",
    "        if len(ll4[x][8][0])!=0:\n",
    "            for val in ll4[x][8][0]:\n",
    "                print(ll4[x][8][0])\n",
    "                val=val.replace('Bhagavad-gītā','/bg').replace(' ','').replace('.','/').replace('(','/').replace(')','/')\n",
    "                \n",
    "                task[x].append(val)\n",
    "        if len(ll4[x][8][1])!=0:\n",
    "            for val in ll4[x][8][1]:\n",
    "                val=val.replace('Bg.','/bg').replace(' ','/').replace('.','/').replace('(','').replace(')','/')\n",
    "                \n",
    "                task[x].append(val)\n",
    "        if len(ll4[x][8][2])!=0:\n",
    "            for val in ll4[x][8][2]:\n",
    "                val=val.replace('Śrīmad-Bhāgavatam','/sb').replace(' ','').replace('.','/').replace('(','/').replace(')','/')\n",
    "                \n",
    "                task[x].append(val)\n"
   ]
  },
  {
   "cell_type": "code",
   "execution_count": null,
   "metadata": {},
   "outputs": [],
   "source": [
    "task[13749]=['/sb/10/32']"
   ]
  },
  {
   "cell_type": "code",
   "execution_count": null,
   "metadata": {},
   "outputs": [],
   "source": [
    "for x in range(13752,13771):\n",
    "    if len(ll4[x][8])!=0:\n",
    "        if len(ll4[x][8][0])!=0:\n",
    "            for val in ll4[x][8][0]:\n",
    "                print(ll4[x][8][0])\n",
    "                val=val.replace('Bhāgavatam','/sb').replace(' ','').replace('.','/').replace('(','/').replace(')','/')\n",
    "                task[x].append(val)\n",
    "                \n",
    "        if len(ll4[x][8][1])!=0:\n",
    "             for val in ll4[x][8][1]:\n",
    "                print(ll4[x][8][1])\n",
    "                val=val.replace('Bhagavad-gītā','/bg').replace(' ','').replace('.','/').replace('(','/').replace(')','/')\n",
    "                task[x].append(val)\n",
    "                "
   ]
  },
  {
   "cell_type": "code",
   "execution_count": null,
   "metadata": {},
   "outputs": [],
   "source": [
    "task[13765][0]='/sb/1/2/17/'"
   ]
  },
  {
   "cell_type": "code",
   "execution_count": null,
   "metadata": {},
   "outputs": [],
   "source": [
    "task[13765].append('/bg/10/10/')\n"
   ]
  },
  {
   "cell_type": "code",
   "execution_count": null,
   "metadata": {},
   "outputs": [],
   "source": [
    "#print(task[655],task[656],task[13659],task[13660],task[13721],task[13722],task[13732],task[13733],sep=\"\\n\")"
   ]
  },
  {
   "cell_type": "code",
   "execution_count": null,
   "metadata": {},
   "outputs": [],
   "source": [
    "for x in range(13771):\n",
    "    ll4[x][9]=ll4[x][9]+task[x]\n",
    "    #print(ll4[x][9])"
   ]
  },
  {
   "cell_type": "code",
   "execution_count": null,
   "metadata": {},
   "outputs": [],
   "source": [
    "#self recomendation (if want to consider)\n",
    "#for x in range(13771):\n",
    "    #ll4[x][9].append(ll4[x][0])"
   ]
  },
  {
   "cell_type": "code",
   "execution_count": null,
   "metadata": {},
   "outputs": [],
   "source": [
    "df=pd.DataFrame(ll4)\n",
    "csv=df.to_csv('FinalBooklet.csv',index=False)"
   ]
  },
  {
   "cell_type": "code",
   "execution_count": null,
   "metadata": {},
   "outputs": [],
   "source": []
  }
 ],
 "metadata": {
  "kernelspec": {
   "display_name": "Python 3",
   "language": "python",
   "name": "python3"
  },
  "language_info": {
   "codemirror_mode": {
    "name": "ipython",
    "version": 3
   },
   "file_extension": ".py",
   "mimetype": "text/x-python",
   "name": "python",
   "nbconvert_exporter": "python",
   "pygments_lexer": "ipython3",
   "version": "3.8.3"
  }
 },
 "nbformat": 4,
 "nbformat_minor": 4
}
