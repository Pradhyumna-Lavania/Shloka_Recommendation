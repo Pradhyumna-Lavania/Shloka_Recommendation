{
 "cells": [
  {
   "cell_type": "code",
   "execution_count": 44,
   "metadata": {},
   "outputs": [],
   "source": [
    "from bs4 import BeautifulSoup as soup\n",
    "import requests\n",
    "import re\n",
    "import pandas as pd"
   ]
  },
  {
   "cell_type": "code",
   "execution_count": 45,
   "metadata": {},
   "outputs": [],
   "source": [
    "r = requests.get('https://vedabase.io/en/library/bg/1/')\n",
    "main= soup(r.text,'lxml')\n",
    "mstr='https://vedabase.io'\n",
    "mstr1= 'https://vedabase.io/en/library/bg/'"
   ]
  },
  {
   "cell_type": "code",
   "execution_count": 46,
   "metadata": {},
   "outputs": [
    {
     "name": "stdout",
     "output_type": "stream",
     "text": [
      "[<dt><a href=\"/en/library/bg/1/1/\">TEXT 1:</a></dt>, <dt><a href=\"/en/library/bg/1/2/\">TEXT 2:</a></dt>, <dt><a href=\"/en/library/bg/1/3/\">TEXT 3:</a></dt>, <dt><a href=\"/en/library/bg/1/4/\">TEXT 4:</a></dt>, <dt><a href=\"/en/library/bg/1/5/\">TEXT 5:</a></dt>, <dt><a href=\"/en/library/bg/1/6/\">TEXT 6:</a></dt>, <dt><a href=\"/en/library/bg/1/7/\">TEXT 7:</a></dt>, <dt><a href=\"/en/library/bg/1/8/\">TEXT 8:</a></dt>, <dt><a href=\"/en/library/bg/1/9/\">TEXT 9:</a></dt>, <dt><a href=\"/en/library/bg/1/10/\">TEXT 10:</a></dt>, <dt><a href=\"/en/library/bg/1/11/\">TEXT 11:</a></dt>, <dt><a href=\"/en/library/bg/1/12/\">TEXT 12:</a></dt>, <dt><a href=\"/en/library/bg/1/13/\">TEXT 13:</a></dt>, <dt><a href=\"/en/library/bg/1/14/\">TEXT 14:</a></dt>, <dt><a href=\"/en/library/bg/1/15/\">TEXT 15:</a></dt>, <dt><a href=\"/en/library/bg/1/16-18/\">TEXTS 16-18:</a></dt>, <dt><a href=\"/en/library/bg/1/19/\">TEXT 19:</a></dt>, <dt><a href=\"/en/library/bg/1/20/\">TEXT 20:</a></dt>, <dt><a href=\"/en/library/bg/1/21-22/\">TEXTS 21-22:</a></dt>, <dt><a href=\"/en/library/bg/1/23/\">TEXT 23:</a></dt>, <dt><a href=\"/en/library/bg/1/24/\">TEXT 24:</a></dt>, <dt><a href=\"/en/library/bg/1/25/\">TEXT 25:</a></dt>, <dt><a href=\"/en/library/bg/1/26/\">TEXT 26:</a></dt>, <dt><a href=\"/en/library/bg/1/27/\">TEXT 27:</a></dt>, <dt><a href=\"/en/library/bg/1/28/\">TEXT 28:</a></dt>, <dt><a href=\"/en/library/bg/1/29/\">TEXT 29:</a></dt>, <dt><a href=\"/en/library/bg/1/30/\">TEXT 30:</a></dt>, <dt><a href=\"/en/library/bg/1/31/\">TEXT 31:</a></dt>, <dt><a href=\"/en/library/bg/1/32-35/\">TEXTS 32-35:</a></dt>, <dt><a href=\"/en/library/bg/1/36/\">TEXT 36:</a></dt>, <dt><a href=\"/en/library/bg/1/37-38/\">TEXTS 37-38:</a></dt>, <dt><a href=\"/en/library/bg/1/39/\">TEXT 39:</a></dt>, <dt><a href=\"/en/library/bg/1/40/\">TEXT 40:</a></dt>, <dt><a href=\"/en/library/bg/1/41/\">TEXT 41:</a></dt>, <dt><a href=\"/en/library/bg/1/42/\">TEXT 42:</a></dt>, <dt><a href=\"/en/library/bg/1/43/\">TEXT 43:</a></dt>, <dt><a href=\"/en/library/bg/1/44/\">TEXT 44:</a></dt>, <dt><a href=\"/en/library/bg/1/45/\">TEXT 45:</a></dt>, <dt><a href=\"/en/library/bg/1/46/\">TEXT 46:</a></dt>]\n"
     ]
    }
   ],
   "source": [
    "cl =main.find_all('dt')\n",
    "print(cl)"
   ]
  },
  {
   "cell_type": "code",
   "execution_count": 48,
   "metadata": {},
   "outputs": [
    {
     "ename": "SyntaxError",
     "evalue": "cannot assign to function call (<ipython-input-48-88542f135ada>, line 4)",
     "output_type": "error",
     "traceback": [
      "\u001b[1;36m  File \u001b[1;32m\"<ipython-input-48-88542f135ada>\"\u001b[1;36m, line \u001b[1;32m4\u001b[0m\n\u001b[1;33m    str(cl) = re.sub(p1,'',str(cl),1)\u001b[0m\n\u001b[1;37m    ^\u001b[0m\n\u001b[1;31mSyntaxError\u001b[0m\u001b[1;31m:\u001b[0m cannot assign to function call\n"
     ]
    }
   ],
   "source": [
    "while(re.search('/en/library/bg/1/.*?/',str(cl))):\n",
    "    x1=re.search('/en/library/bg/1/.*?/',str(cl))\n",
    "    p1=str(x1.group())\n",
    "    cl = re.sub(p1,'',str(cl),1)\n",
    "    print(p1)\n",
    "    print(mstr+p1 )\n",
    "    print((re.search('bg/./.*?/',p1)).group())\n",
    "    "
   ]
  },
  {
   "cell_type": "code",
   "execution_count": 49,
   "metadata": {},
   "outputs": [
    {
     "name": "stdout",
     "output_type": "stream",
     "text": [
      "/en/library/bg/1/.*?/\n"
     ]
    }
   ],
   "source": [
    "rand_var = '/en/library/bg/1/' + '.*?/'\n",
    "print(rand_var)"
   ]
  },
  {
   "cell_type": "code",
   "execution_count": null,
   "metadata": {},
   "outputs": [],
   "source": []
  }
 ],
 "metadata": {
  "kernelspec": {
   "display_name": "Python 3",
   "language": "python",
   "name": "python3"
  },
  "language_info": {
   "codemirror_mode": {
    "name": "ipython",
    "version": 3
   },
   "file_extension": ".py",
   "mimetype": "text/x-python",
   "name": "python",
   "nbconvert_exporter": "python",
   "pygments_lexer": "ipython3",
   "version": "3.8.3"
  }
 },
 "nbformat": 4,
 "nbformat_minor": 4
}
