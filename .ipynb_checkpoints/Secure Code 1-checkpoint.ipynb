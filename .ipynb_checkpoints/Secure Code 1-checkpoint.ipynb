{
 "cells": [
  {
   "cell_type": "code",
   "execution_count": 19,
   "metadata": {},
   "outputs": [],
   "source": [
    "from bs4 import BeautifulSoup as soup\n",
    "import requests\n",
    "import re\n",
    "import pandas as pd\n",
    "from collections import defaultdict\n",
    "  \n",
    "\n"
   ]
  },
  {
   "cell_type": "code",
   "execution_count": 20,
   "metadata": {},
   "outputs": [],
   "source": [
    "r = requests.get('https://vedabase.io/en/library/bg/')\n",
    "main= soup(r.text,'lxml')\n",
    "mstr = 'https://vedabase.io'\n",
    "gitadict =  defaultdict(list)\n"
   ]
  },
  {
   "cell_type": "code",
   "execution_count": 21,
   "metadata": {},
   "outputs": [
    {
     "name": "stdout",
     "output_type": "stream",
     "text": [
      "[<div class=\"r-chapter\" id=\"bb2\">\n",
      "<div class=\"bb r r-lang-en r-chapter\" id=\"bb2\"><a href=\"/en/library/bg/setting-the-scene/\">Setting the Scene</a></div>\n",
      "</div>, <div class=\"bb r r-lang-en r-chapter\" id=\"bb2\"><a href=\"/en/library/bg/setting-the-scene/\">Setting the Scene</a></div>, <div class=\"r-chapter\" id=\"bb21\">\n",
      "<div class=\"bb r r-lang-en r-chapter\" id=\"bb21\"><a href=\"/en/library/bg/dedication/\">Dedication</a></div>\n",
      "</div>, <div class=\"bb r r-lang-en r-chapter\" id=\"bb21\"><a href=\"/en/library/bg/dedication/\">Dedication</a></div>, <div class=\"r-chapter\" id=\"bb23\">\n",
      "<div class=\"bb r r-lang-en r-chapter\" id=\"bb23\"><a href=\"/en/library/bg/preface/\">Preface</a></div>\n",
      "</div>, <div class=\"bb r r-lang-en r-chapter\" id=\"bb23\"><a href=\"/en/library/bg/preface/\">Preface</a></div>, <div class=\"r-chapter\" id=\"bb31\">\n",
      "<div class=\"bb r r-lang-en r-chapter\" id=\"bb31\"><a href=\"/en/library/bg/introduction/\">Introduction</a></div>\n",
      "</div>, <div class=\"bb r r-lang-en r-chapter\" id=\"bb31\"><a href=\"/en/library/bg/introduction/\">Introduction</a></div>, <div class=\"r-chapter\" id=\"bb179\">\n",
      "<div class=\"r bb r-lang-en r-chapter\" id=\"bb179\"><a href=\"/en/library/bg/1/\">Chapter One: Observing the Armies on the Battlefield of Kurukṣetra</a></div>\n",
      "</div>, <div class=\"r bb r-lang-en r-chapter\" id=\"bb179\"><a href=\"/en/library/bg/1/\">Chapter One: Observing the Armies on the Battlefield of Kurukṣetra</a></div>, <div class=\"r-chapter\" id=\"bb394\">\n",
      "<div class=\"r bb r-lang-en r-chapter\" id=\"bb394\"><a href=\"/en/library/bg/2/\">Chapter Two: Contents of the Gītā Summarized</a></div>\n",
      "</div>, <div class=\"r bb r-lang-en r-chapter\" id=\"bb394\"><a href=\"/en/library/bg/2/\">Chapter Two: Contents of the Gītā Summarized</a></div>, <div class=\"r-chapter\" id=\"bb869\">\n",
      "<div class=\"r bb r-lang-en r-chapter\" id=\"bb869\"><a href=\"/en/library/bg/3/\">Chapter Three: Karma-yoga</a></div>\n",
      "</div>, <div class=\"r bb r-lang-en r-chapter\" id=\"bb869\"><a href=\"/en/library/bg/3/\">Chapter Three: Karma-yoga</a></div>, <div class=\"r-chapter\" id=\"bb1120\">\n",
      "<div class=\"r bb r-lang-en r-chapter\" id=\"bb1120\"><a href=\"/en/library/bg/4/\">Chapter Four: Transcendental Knowledge</a></div>\n",
      "</div>, <div class=\"r bb r-lang-en r-chapter\" id=\"bb1120\"><a href=\"/en/library/bg/4/\">Chapter Four: Transcendental Knowledge</a></div>, <div class=\"r-chapter\" id=\"bb1374\">\n",
      "<div class=\"r bb r-lang-en r-chapter\" id=\"bb1374\"><a href=\"/en/library/bg/5/\">Chapter Five: Karma-yoga – Action in Kṛṣṇa Consciousness</a></div>\n",
      "</div>, <div class=\"r bb r-lang-en r-chapter\" id=\"bb1374\"><a href=\"/en/library/bg/5/\">Chapter Five: Karma-yoga – Action in Kṛṣṇa Consciousness</a></div>, <div class=\"r-chapter\" id=\"bb1549\">\n",
      "<div class=\"r bb r-lang-en r-chapter\" id=\"bb1549\"><a href=\"/en/library/bg/6/\">Chapter Six: Dhyāna-yoga</a></div>\n",
      "</div>, <div class=\"r bb r-lang-en r-chapter\" id=\"bb1549\"><a href=\"/en/library/bg/6/\">Chapter Six: Dhyāna-yoga</a></div>, <div class=\"r-chapter\" id=\"bb1843\">\n",
      "<div class=\"r bb r-lang-en r-chapter\" id=\"bb1843\"><a href=\"/en/library/bg/7/\">Chapter Seven: Knowledge of the Absolute</a></div>\n",
      "</div>, <div class=\"r bb r-lang-en r-chapter\" id=\"bb1843\"><a href=\"/en/library/bg/7/\">Chapter Seven: Knowledge of the Absolute</a></div>, <div class=\"r-chapter\" id=\"bb2083\">\n",
      "<div class=\"r bb r-lang-en r-chapter\" id=\"bb2083\"><a href=\"/en/library/bg/8/\">Chapter Eight: Attaining the Supreme</a></div>\n",
      "</div>, <div class=\"r bb r-lang-en r-chapter\" id=\"bb2083\"><a href=\"/en/library/bg/8/\">Chapter Eight: Attaining the Supreme</a></div>, <div class=\"r-chapter\" id=\"bb2250\">\n",
      "<div class=\"r bb r-lang-en r-chapter\" id=\"bb2250\"><a href=\"/en/library/bg/9/\">Chapter Nine: The Most Confidential Knowledge</a></div>\n",
      "</div>, <div class=\"r bb r-lang-en r-chapter\" id=\"bb2250\"><a href=\"/en/library/bg/9/\">Chapter Nine: The Most Confidential Knowledge</a></div>, <div class=\"r-chapter\" id=\"bb2493\">\n",
      "<div class=\"r bb r-lang-en r-chapter\" id=\"bb2493\"><a href=\"/en/library/bg/10/\">Chapter Ten: The Opulence of the Absolute</a></div>\n",
      "</div>, <div class=\"r bb r-lang-en r-chapter\" id=\"bb2493\"><a href=\"/en/library/bg/10/\">Chapter Ten: The Opulence of the Absolute</a></div>, <div class=\"r-chapter\" id=\"bb2762\">\n",
      "<div class=\"r bb r-lang-en r-chapter\" id=\"bb2762\"><a href=\"/en/library/bg/11/\">Chapter Eleven: The Universal Form</a></div>\n",
      "</div>, <div class=\"r bb r-lang-en r-chapter\" id=\"bb2762\"><a href=\"/en/library/bg/11/\">Chapter Eleven: The Universal Form</a></div>, <div class=\"r-chapter\" id=\"bb3063\">\n",
      "<div class=\"r bb r-lang-en r-chapter\" id=\"bb3063\"><a href=\"/en/library/bg/12/\">Chapter Twelve: Devotional Service</a></div>\n",
      "</div>, <div class=\"r bb r-lang-en r-chapter\" id=\"bb3063\"><a href=\"/en/library/bg/12/\">Chapter Twelve: Devotional Service</a></div>, <div class=\"r-chapter\" id=\"bb3174\">\n",
      "<div class=\"r bb r-lang-en r-chapter\" id=\"bb3174\"><a href=\"/en/library/bg/13/\">Chapter Thirteen: Nature, the Enjoyer and Consciousness</a></div>\n",
      "</div>, <div class=\"r bb r-lang-en r-chapter\" id=\"bb3174\"><a href=\"/en/library/bg/13/\">Chapter Thirteen: Nature, the Enjoyer and Consciousness</a></div>, <div class=\"r-chapter\" id=\"bb3366\">\n",
      "<div class=\"r bb r-lang-en r-chapter\" id=\"bb3366\"><a href=\"/en/library/bg/14/\">Chapter Fourteen: The Three Modes of Material Nature</a></div>\n",
      "</div>, <div class=\"r bb r-lang-en r-chapter\" id=\"bb3366\"><a href=\"/en/library/bg/14/\">Chapter Fourteen: The Three Modes of Material Nature</a></div>, <div class=\"r-chapter\" id=\"bb3503\">\n",
      "<div class=\"r bb r-lang-en r-chapter\" id=\"bb3503\"><a href=\"/en/library/bg/15/\">Chapter Fifteen: The Yoga of the Supreme Person</a></div>\n",
      "</div>, <div class=\"r bb r-lang-en r-chapter\" id=\"bb3503\"><a href=\"/en/library/bg/15/\">Chapter Fifteen: The Yoga of the Supreme Person</a></div>, <div class=\"r-chapter\" id=\"bb3624\">\n",
      "<div class=\"r bb r-lang-en r-chapter\" id=\"bb3624\"><a href=\"/en/library/bg/16/\">Chapter Sixteen: The Divine and Demoniac Natures</a></div>\n",
      "</div>, <div class=\"r bb r-lang-en r-chapter\" id=\"bb3624\"><a href=\"/en/library/bg/16/\">Chapter Sixteen: The Divine and Demoniac Natures</a></div>, <div class=\"r-chapter\" id=\"bb3750\">\n",
      "<div class=\"r bb r-lang-en r-chapter\" id=\"bb3750\"><a href=\"/en/library/bg/17/\">Chapter Seventeen: The Divisions of Faith</a></div>\n",
      "</div>, <div class=\"r bb r-lang-en r-chapter\" id=\"bb3750\"><a href=\"/en/library/bg/17/\">Chapter Seventeen: The Divisions of Faith</a></div>, <div class=\"r-chapter\" id=\"bb3890\">\n",
      "<div class=\"r bb r-lang-en r-chapter\" id=\"bb3890\"><a href=\"/en/library/bg/18/\">Chapter Eighteen: Conclusion – The Perfection of Renunciation</a></div>\n",
      "</div>, <div class=\"r bb r-lang-en r-chapter\" id=\"bb3890\"><a href=\"/en/library/bg/18/\">Chapter Eighteen: Conclusion – The Perfection of Renunciation</a></div>, <div class=\"r-chapter\" id=\"bb4297\">\n",
      "<div class=\"bb r r-lang-en r-chapter\" id=\"bb4297\"><a href=\"/en/library/bg/note-2nd-edition/\">A Note About the Second Edition</a></div>\n",
      "</div>, <div class=\"bb r r-lang-en r-chapter\" id=\"bb4297\"><a href=\"/en/library/bg/note-2nd-edition/\">A Note About the Second Edition</a></div>]\n"
     ]
    }
   ],
   "source": [
    "cl =main.find_all('div', class_=\"r-chapter\")\n",
    "print(cl)"
   ]
  },
  {
   "cell_type": "code",
   "execution_count": 22,
   "metadata": {},
   "outputs": [],
   "source": [
    "s = str(cl)"
   ]
  },
  {
   "cell_type": "code",
   "execution_count": 17,
   "metadata": {},
   "outputs": [
    {
     "name": "stdout",
     "output_type": "stream",
     "text": [
      "/en/library/bg/3/\n",
      "[<div class=\"r-chapter\" id=\"bb2\">\n",
      "<div class=\"bb r r-lang-en r-chapter\" id=\"bb2\"><a href=\"/en/library/bg/setting-the-scene/\">Setting the Scene</a></div>\n",
      "</div>, <div class=\"bb r r-lang-en r-chapter\" id=\"bb2\"><a href=\"/en/library/bg/setting-the-scene/\">Setting the Scene</a></div>, <div class=\"r-chapter\" id=\"bb21\">\n",
      "<div class=\"bb r r-lang-en r-chapter\" id=\"bb21\"><a href=\"/en/library/bg/dedication/\">Dedication</a></div>\n",
      "</div>, <div class=\"bb r r-lang-en r-chapter\" id=\"bb21\"><a href=\"/en/library/bg/dedication/\">Dedication</a></div>, <div class=\"r-chapter\" id=\"bb23\">\n",
      "<div class=\"bb r r-lang-en r-chapter\" id=\"bb23\"><a href=\"/en/library/bg/preface/\">Preface</a></div>\n",
      "</div>, <div class=\"bb r r-lang-en r-chapter\" id=\"bb23\"><a href=\"/en/library/bg/preface/\">Preface</a></div>, <div class=\"r-chapter\" id=\"bb31\">\n",
      "<div class=\"bb r r-lang-en r-chapter\" id=\"bb31\"><a href=\"/en/library/bg/introduction/\">Introduction</a></div>\n",
      "</div>, <div class=\"bb r r-lang-en r-chapter\" id=\"bb31\"><a href=\"/en/library/bg/introduction/\">Introduction</a></div>, <div class=\"r-chapter\" id=\"bb179\">\n",
      "<div class=\"r bb r-lang-en r-chapter\" id=\"bb179\"><a href=\"\">Chapter One: Observing the Armies on the Battlefield of Kurukṣetra</a></div>\n",
      "</div>, <div class=\"r bb r-lang-en r-chapter\" id=\"bb179\"><a href=\"\">Chapter One: Observing the Armies on the Battlefield of Kurukṣetra</a></div>, <div class=\"r-chapter\" id=\"bb394\">\n",
      "<div class=\"r bb r-lang-en r-chapter\" id=\"bb394\"><a href=\"\">Chapter Two: Contents of the Gītā Summarized</a></div>\n",
      "</div>, <div class=\"r bb r-lang-en r-chapter\" id=\"bb394\"><a href=\"\">Chapter Two: Contents of the Gītā Summarized</a></div>, <div class=\"r-chapter\" id=\"bb869\">\n",
      "<div class=\"r bb r-lang-en r-chapter\" id=\"bb869\"><a href=\"\">Chapter Three: Karma-yoga</a></div>\n",
      "</div>, <div class=\"r bb r-lang-en r-chapter\" id=\"bb869\"><a href=\"\">Chapter Three: Karma-yoga</a></div>, <div class=\"r-chapter\" id=\"bb1120\">\n",
      "<div class=\"r bb r-lang-en r-chapter\" id=\"bb1120\"><a href=\"/en/library/bg/4/\">Chapter Four: Transcendental Knowledge</a></div>\n",
      "</div>, <div class=\"r bb r-lang-en r-chapter\" id=\"bb1120\"><a href=\"/en/library/bg/4/\">Chapter Four: Transcendental Knowledge</a></div>, <div class=\"r-chapter\" id=\"bb1374\">\n",
      "<div class=\"r bb r-lang-en r-chapter\" id=\"bb1374\"><a href=\"/en/library/bg/5/\">Chapter Five: Karma-yoga – Action in Kṛṣṇa Consciousness</a></div>\n",
      "</div>, <div class=\"r bb r-lang-en r-chapter\" id=\"bb1374\"><a href=\"/en/library/bg/5/\">Chapter Five: Karma-yoga – Action in Kṛṣṇa Consciousness</a></div>, <div class=\"r-chapter\" id=\"bb1549\">\n",
      "<div class=\"r bb r-lang-en r-chapter\" id=\"bb1549\"><a href=\"/en/library/bg/6/\">Chapter Six: Dhyāna-yoga</a></div>\n",
      "</div>, <div class=\"r bb r-lang-en r-chapter\" id=\"bb1549\"><a href=\"/en/library/bg/6/\">Chapter Six: Dhyāna-yoga</a></div>, <div class=\"r-chapter\" id=\"bb1843\">\n",
      "<div class=\"r bb r-lang-en r-chapter\" id=\"bb1843\"><a href=\"/en/library/bg/7/\">Chapter Seven: Knowledge of the Absolute</a></div>\n",
      "</div>, <div class=\"r bb r-lang-en r-chapter\" id=\"bb1843\"><a href=\"/en/library/bg/7/\">Chapter Seven: Knowledge of the Absolute</a></div>, <div class=\"r-chapter\" id=\"bb2083\">\n",
      "<div class=\"r bb r-lang-en r-chapter\" id=\"bb2083\"><a href=\"/en/library/bg/8/\">Chapter Eight: Attaining the Supreme</a></div>\n",
      "</div>, <div class=\"r bb r-lang-en r-chapter\" id=\"bb2083\"><a href=\"/en/library/bg/8/\">Chapter Eight: Attaining the Supreme</a></div>, <div class=\"r-chapter\" id=\"bb2250\">\n",
      "<div class=\"r bb r-lang-en r-chapter\" id=\"bb2250\"><a href=\"/en/library/bg/9/\">Chapter Nine: The Most Confidential Knowledge</a></div>\n",
      "</div>, <div class=\"r bb r-lang-en r-chapter\" id=\"bb2250\"><a href=\"/en/library/bg/9/\">Chapter Nine: The Most Confidential Knowledge</a></div>, <div class=\"r-chapter\" id=\"bb2493\">\n",
      "<div class=\"r bb r-lang-en r-chapter\" id=\"bb2493\"><a href=\"/en/library/bg/10/\">Chapter Ten: The Opulence of the Absolute</a></div>\n",
      "</div>, <div class=\"r bb r-lang-en r-chapter\" id=\"bb2493\"><a href=\"/en/library/bg/10/\">Chapter Ten: The Opulence of the Absolute</a></div>, <div class=\"r-chapter\" id=\"bb2762\">\n",
      "<div class=\"r bb r-lang-en r-chapter\" id=\"bb2762\"><a href=\"/en/library/bg/11/\">Chapter Eleven: The Universal Form</a></div>\n",
      "</div>, <div class=\"r bb r-lang-en r-chapter\" id=\"bb2762\"><a href=\"/en/library/bg/11/\">Chapter Eleven: The Universal Form</a></div>, <div class=\"r-chapter\" id=\"bb3063\">\n",
      "<div class=\"r bb r-lang-en r-chapter\" id=\"bb3063\"><a href=\"/en/library/bg/12/\">Chapter Twelve: Devotional Service</a></div>\n",
      "</div>, <div class=\"r bb r-lang-en r-chapter\" id=\"bb3063\"><a href=\"/en/library/bg/12/\">Chapter Twelve: Devotional Service</a></div>, <div class=\"r-chapter\" id=\"bb3174\">\n",
      "<div class=\"r bb r-lang-en r-chapter\" id=\"bb3174\"><a href=\"/en/library/bg/13/\">Chapter Thirteen: Nature, the Enjoyer and Consciousness</a></div>\n",
      "</div>, <div class=\"r bb r-lang-en r-chapter\" id=\"bb3174\"><a href=\"/en/library/bg/13/\">Chapter Thirteen: Nature, the Enjoyer and Consciousness</a></div>, <div class=\"r-chapter\" id=\"bb3366\">\n",
      "<div class=\"r bb r-lang-en r-chapter\" id=\"bb3366\"><a href=\"/en/library/bg/14/\">Chapter Fourteen: The Three Modes of Material Nature</a></div>\n",
      "</div>, <div class=\"r bb r-lang-en r-chapter\" id=\"bb3366\"><a href=\"/en/library/bg/14/\">Chapter Fourteen: The Three Modes of Material Nature</a></div>, <div class=\"r-chapter\" id=\"bb3503\">\n",
      "<div class=\"r bb r-lang-en r-chapter\" id=\"bb3503\"><a href=\"/en/library/bg/15/\">Chapter Fifteen: The Yoga of the Supreme Person</a></div>\n",
      "</div>, <div class=\"r bb r-lang-en r-chapter\" id=\"bb3503\"><a href=\"/en/library/bg/15/\">Chapter Fifteen: The Yoga of the Supreme Person</a></div>, <div class=\"r-chapter\" id=\"bb3624\">\n",
      "<div class=\"r bb r-lang-en r-chapter\" id=\"bb3624\"><a href=\"/en/library/bg/16/\">Chapter Sixteen: The Divine and Demoniac Natures</a></div>\n",
      "</div>, <div class=\"r bb r-lang-en r-chapter\" id=\"bb3624\"><a href=\"/en/library/bg/16/\">Chapter Sixteen: The Divine and Demoniac Natures</a></div>, <div class=\"r-chapter\" id=\"bb3750\">\n",
      "<div class=\"r bb r-lang-en r-chapter\" id=\"bb3750\"><a href=\"/en/library/bg/17/\">Chapter Seventeen: The Divisions of Faith</a></div>\n",
      "</div>, <div class=\"r bb r-lang-en r-chapter\" id=\"bb3750\"><a href=\"/en/library/bg/17/\">Chapter Seventeen: The Divisions of Faith</a></div>, <div class=\"r-chapter\" id=\"bb3890\">\n",
      "<div class=\"r bb r-lang-en r-chapter\" id=\"bb3890\"><a href=\"/en/library/bg/18/\">Chapter Eighteen: Conclusion – The Perfection of Renunciation</a></div>\n",
      "</div>, <div class=\"r bb r-lang-en r-chapter\" id=\"bb3890\"><a href=\"/en/library/bg/18/\">Chapter Eighteen: Conclusion – The Perfection of Renunciation</a></div>, <div class=\"r-chapter\" id=\"bb4297\">\n",
      "<div class=\"bb r r-lang-en r-chapter\" id=\"bb4297\"><a href=\"/en/library/bg/note-2nd-edition/\">A Note About the Second Edition</a></div>\n",
      "</div>, <div class=\"bb r r-lang-en r-chapter\" id=\"bb4297\"><a href=\"/en/library/bg/note-2nd-edition/\">A Note About the Second Edition</a></div>]\n"
     ]
    }
   ],
   "source": [
    "while(re.search('/en/library/bg/./',s)):\n",
    "    x=re.search('/en/library/bg/./',s)\n",
    "    p=str(x.group())\n",
    "    while(re.search(p,s)):\n",
    "        s = re.sub(p,'',s,1)\n",
    "    url1 = mstr + p\n",
    "    r1 = requests.get(url1)\n",
    "    deep1= soup(r1.text,'lxml')\n",
    "    \n",
    "    \n",
    "    \n",
    "\n",
    "\n",
    "    "
   ]
  },
  {
   "cell_type": "code",
   "execution_count": null,
   "metadata": {},
   "outputs": [],
   "source": []
  }
 ],
 "metadata": {
  "kernelspec": {
   "display_name": "Python 3",
   "language": "python",
   "name": "python3"
  },
  "language_info": {
   "codemirror_mode": {
    "name": "ipython",
    "version": 3
   },
   "file_extension": ".py",
   "mimetype": "text/x-python",
   "name": "python",
   "nbconvert_exporter": "python",
   "pygments_lexer": "ipython3",
   "version": "3.8.3"
  }
 },
 "nbformat": 4,
 "nbformat_minor": 4
}
